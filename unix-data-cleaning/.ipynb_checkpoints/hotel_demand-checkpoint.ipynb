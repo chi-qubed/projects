{
 "cells": [
  {
   "cell_type": "markdown",
   "id": "6d884675-02b4-4fff-b9f8-4aff60620cfb",
   "metadata": {},
   "source": [
    "# Утилиты Unix в анализе данных"
   ]
  },
  {
   "cell_type": "markdown",
   "id": "bcdaa148-cfce-4b33-b856-4bea9dd56582",
   "metadata": {},
   "source": [
    "В даннном блокноте ipynb демонстрируются возможности различных утилит командной оболочки **Unix-подобных ОС** при решении **несложных задач очистки данных и их разведательного анализа**, в том числе:\n",
    "* **head**\n",
    "* **wc**\n",
    "* **awk**\n",
    "* **sort**\n",
    "* **uniq**\n",
    "\n",
    "Кроме того, полезными при решении подобных задач является набор утлитик командной строки под названием [**csvkit**](https://github.com/wireservice/csvkit)."
   ]
  },
  {
   "cell_type": "markdown",
   "id": "ef9101fc-09bd-4b64-8592-cd862de7b67e",
   "metadata": {},
   "source": [
    "## Датасет №1:\n",
    "\n",
    "### Hotel booking demand\n",
    "\n",
    "В наборе данных представлена информация о бронировании для двух организаций: городского отеля и курортного отеля. В качесте признаков представлены такие параметры, как дата своершения бронирования, продолжительность пребывания, количество гостей, количество мест паркинга и др.\n",
    "\n",
    "С легендой значений данных можно ознакомиться на странице датасета на портале Kaggle.\n",
    "\n",
    "Источник набора данных:\n",
    "https://www.kaggle.com/jessemostipak/hotel-booking-demand  \n",
    "https://www.sciencedirect.com/science/article/pii/S2352340918315191"
   ]
  },
  {
   "cell_type": "markdown",
   "id": "fdfb0afe-ac6d-43c2-88fa-72bf120ac4d8",
   "metadata": {},
   "source": [
    "<img src=\"https://www.kaggle.com/static/images/site-logo.png\" width=\"100\">"
   ]
  },
  {
   "cell_type": "code",
   "execution_count": 7,
   "id": "c649b765-4231-4970-ba57-5d82f729d699",
   "metadata": {},
   "outputs": [
    {
     "name": "stdout",
     "output_type": "stream",
     "text": [
      "README.md  datasets  hotel_demand.ipynb\n"
     ]
    }
   ],
   "source": [
    "!ls"
   ]
  },
  {
   "cell_type": "markdown",
   "id": "465819fb-bb66-4962-aed1-9a002e93d27b",
   "metadata": {
    "tags": []
   },
   "source": [
    "Перейдем в директорию с наборами данных:"
   ]
  },
  {
   "cell_type": "code",
   "execution_count": 8,
   "id": "d1a7dc80-d9f4-4378-8ebc-779ce23dc77d",
   "metadata": {},
   "outputs": [
    {
     "name": "stdout",
     "output_type": "stream",
     "text": [
      "/home/manjaro/da/projects/unix-data-cleaning/datasets\n"
     ]
    }
   ],
   "source": [
    "%cd datasets"
   ]
  },
  {
   "cell_type": "code",
   "execution_count": 9,
   "id": "d098d584-3f70-4f49-b702-46507bd29f6c",
   "metadata": {},
   "outputs": [
    {
     "name": "stdout",
     "output_type": "stream",
     "text": [
      "hotel_bookings.csv\n"
     ]
    }
   ],
   "source": [
    "!ls"
   ]
  },
  {
   "cell_type": "markdown",
   "id": "dae3be43-c334-4f0f-b7c0-374ef1810da0",
   "metadata": {},
   "source": [
    "Воспользуемся утилитой **head** для просмотра первых 5 строк файла:"
   ]
  },
  {
   "cell_type": "code",
   "execution_count": 10,
   "id": "6a3560bd-6e15-40e3-94b7-325d3410ed16",
   "metadata": {},
   "outputs": [
    {
     "name": "stdout",
     "output_type": "stream",
     "text": [
      "hotel,is_canceled,lead_time,arrival_date_year,arrival_date_month,arrival_date_week_number,arrival_date_day_of_month,stays_in_weekend_nights,stays_in_week_nights,adults,children,babies,meal,country,market_segment,distribution_channel,is_repeated_guest,previous_cancellations,previous_bookings_not_canceled,reserved_room_type,assigned_room_type,booking_changes,deposit_type,agent,company,days_in_waiting_list,customer_type,adr,required_car_parking_spaces,total_of_special_requests,reservation_status,reservation_status_date\n",
      "Resort Hotel,0,342,2015,July,27,1,0,0,2,0,0,BB,PRT,Direct,Direct,0,0,0,C,C,3,No Deposit,NULL,NULL,0,Transient,0,0,0,Check-Out,2015-07-01\n",
      "Resort Hotel,0,737,2015,July,27,1,0,0,2,0,0,BB,PRT,Direct,Direct,0,0,0,C,C,4,No Deposit,NULL,NULL,0,Transient,0,0,0,Check-Out,2015-07-01\n",
      "Resort Hotel,0,7,2015,July,27,1,0,1,1,0,0,BB,GBR,Direct,Direct,0,0,0,A,C,0,No Deposit,NULL,NULL,0,Transient,75,0,0,Check-Out,2015-07-02\n",
      "Resort Hotel,0,13,2015,July,27,1,0,1,1,0,0,BB,GBR,Corporate,Corporate,0,0,0,A,A,0,No Deposit,304,NULL,0,Transient,75,0,0,Check-Out,2015-07-02\n"
     ]
    }
   ],
   "source": [
    "!head -n 5 hotel_bookings.csv"
   ]
  },
  {
   "cell_type": "markdown",
   "id": "2ba0d039-7a6c-4476-8fc7-4a6cfa12164c",
   "metadata": {},
   "source": [
    "Определим число записей, имеющихся в файле:"
   ]
  },
  {
   "cell_type": "code",
   "execution_count": 11,
   "id": "7e8dd726-0dcd-49ad-b4d9-5d4ceb9b342d",
   "metadata": {},
   "outputs": [
    {
     "name": "stdout",
     "output_type": "stream",
     "text": [
      "119391 hotel_bookings.csv\n"
     ]
    }
   ],
   "source": [
    "!wc -l hotel_bookings.csv"
   ]
  },
  {
   "cell_type": "markdown",
   "id": "497e2977-f288-4ad0-b3c2-14089a6c52ac",
   "metadata": {},
   "source": [
    "За исключением первой строки с названиями столбцов общее число записей составило **119390**."
   ]
  },
  {
   "cell_type": "markdown",
   "id": "eaa0da85-9c86-4259-aaa6-9e1ab3bb4d5f",
   "metadata": {},
   "source": [
    "Для примера приведем распределение записей по переменной \"is_canceled\" (отмена бронирования номера). В этих целях воспользуемся утилитами **AWK**, **sort**, **uniq**:"
   ]
  },
  {
   "cell_type": "code",
   "execution_count": 12,
   "id": "cb8a7836-06cb-4c8e-8e03-fc7a4ec4ad20",
   "metadata": {},
   "outputs": [
    {
     "name": "stdout",
     "output_type": "stream",
     "text": [
      "  75166 0\n",
      "  44224 1\n"
     ]
    }
   ],
   "source": [
    "!awk -F \"\\\"*,\\\"*\" 'NR>1 {print $2}' hotel_bookings.csv | sort | uniq -c"
   ]
  },
  {
   "cell_type": "markdown",
   "id": "fa07e570-46b9-4989-896c-7580db8b2000",
   "metadata": {},
   "source": [
    "С помощью **AWK** в вывод можно добавить суммарное поле \"Total\" и процентное распределение:"
   ]
  },
  {
   "cell_type": "code",
   "execution_count": 13,
   "id": "fd724722-55b5-4bc4-9e4a-4da10dbeb09e",
   "metadata": {},
   "outputs": [
    {
     "name": "stdout",
     "output_type": "stream",
     "text": [
      "                         Total     119390  100.00%\n",
      "                             0      75166   62.96%\n",
      "                             1      44224   37.04%\n"
     ]
    }
   ],
   "source": [
    "!awk -F \"\\\"*,\\\"*\" 'NR>1 {print $2}' hotel_bookings.csv | sort | uniq -c | awk '{s+=$1;lines=lines\"\\n\"$0} END {printf \"%d Total\",s;print lines}' | awk '!max{max=$1}{s=$1/max*100;c=$1;$1=\"\";printf \"%30s %10d %7.2f%%\\n\",$0,c,s;}'"
   ]
  },
  {
   "cell_type": "markdown",
   "id": "fbd96e83-1660-434c-ad0f-ee8b41179d91",
   "metadata": {},
   "source": [
    "Примерно 63% броней были отменены."
   ]
  },
  {
   "cell_type": "markdown",
   "id": "a030e6ec-71f4-496d-98b1-d1b1348d9282",
   "metadata": {},
   "source": [
    "Аналогичным образом можно рассмотреть распределение записей по другим признакам:"
   ]
  },
  {
   "cell_type": "markdown",
   "id": "c264c598-67d5-41a5-a7aa-afec025daf96",
   "metadata": {},
   "source": [
    "Вид отеля (городской или курортный):"
   ]
  },
  {
   "cell_type": "code",
   "execution_count": 14,
   "id": "3f42d38c-4817-476c-b29f-b3b50c8babf4",
   "metadata": {},
   "outputs": [
    {
     "name": "stdout",
     "output_type": "stream",
     "text": [
      "                         Total     119390  100.00%\n",
      "                    City Hotel      79330   66.45%\n",
      "                  Resort Hotel      40060   33.55%\n"
     ]
    }
   ],
   "source": [
    "!awk -F \"\\\"*,\\\"*\" 'NR>1 {print $1}' hotel_bookings.csv | sort | uniq -c | awk '{s+=$1;lines=lines\"\\n\"$0} END {printf \"%d Total\",s;print lines}' | awk '!max{max=$1}{s=$1/max*100;c=$1;$1=\"\";printf \"%30s %10d %7.2f%%\\n\",$0,c,s;}'"
   ]
  },
  {
   "cell_type": "markdown",
   "id": "6b1f75b0-f932-4b02-9f01-79a0f0c1ecf3",
   "metadata": {},
   "source": [
    "В наборе данных также отражено количество ночей выходного дня, вошедших в период брони:"
   ]
  },
  {
   "cell_type": "code",
   "execution_count": 15,
   "id": "ae296b3d-3ea2-4e7c-bcab-3eca5d61544a",
   "metadata": {},
   "outputs": [
    {
     "name": "stdout",
     "output_type": "stream",
     "text": [
      "                         Total     119390  100.00%\n",
      "                             0      51998   43.55%\n",
      "                             1      30626   25.65%\n",
      "                            10          7    0.01%\n",
      "                            12          5    0.00%\n",
      "                            13          3    0.00%\n",
      "                            14          2    0.00%\n",
      "                            16          3    0.00%\n",
      "                            18          1    0.00%\n",
      "                            19          1    0.00%\n",
      "                             2      33308   27.90%\n",
      "                             3       1259    1.05%\n",
      "                             4       1855    1.55%\n",
      "                             5         79    0.07%\n",
      "                             6        153    0.13%\n",
      "                             7         19    0.02%\n",
      "                             8         60    0.05%\n",
      "                             9         11    0.01%\n"
     ]
    }
   ],
   "source": [
    "!awk -F \"\\\"*,\\\"*\" 'NR>1 {print $8}' hotel_bookings.csv | sort | uniq -c | awk '{s+=$1;lines=lines\"\\n\"$0} END {printf \"%d Total\",s;print lines}' | awk '!max{max=$1}{s=$1/max*100;c=$1;$1=\"\";printf \"%30s %10d %7.2f%%\\n\",$0,c,s;}'"
   ]
  },
  {
   "cell_type": "markdown",
   "id": "03430f6b-899d-438b-ac97-ba4e34107b81",
   "metadata": {},
   "source": [
    "Как видно из выходных данных, на определенном этапе **баланс** информативности и простоты использования исключительно стандартных утилит **Unix-подобных ОС** может смещаться в **неблагоприятную сторону**. В этом случае для повышения читаемости кода и результатов целесообразно обратиться к сторонним наборам утилит, что будет рассмотрено на примере **csvkit**."
   ]
  },
  {
   "cell_type": "markdown",
   "id": "9fed1aaa-e0e1-4c45-9944-5c95ad099a4c",
   "metadata": {},
   "source": [
    "При необходимости установим **csvkit** через **pip**:"
   ]
  },
  {
   "cell_type": "code",
   "execution_count": 24,
   "id": "5a3189a4-66d2-4c6f-98b1-5b6a881ba55f",
   "metadata": {},
   "outputs": [],
   "source": [
    "# Расскоментировать следующую строку:\n",
    "#!pip install csvkit;"
   ]
  },
  {
   "cell_type": "markdown",
   "id": "33cf3dcc-a0c3-4a1f-8605-ad2c45e4b585",
   "metadata": {},
   "source": [
    "Воспользуемся утилитой **csvcut** для более комфортного представления названий столбцов (признаков):"
   ]
  },
  {
   "cell_type": "code",
   "execution_count": 18,
   "id": "463e4914-7dde-435f-8fa3-e5fa08d29c7a",
   "metadata": {},
   "outputs": [
    {
     "name": "stdout",
     "output_type": "stream",
     "text": [
      "  1: hotel\n",
      "  2: is_canceled\n",
      "  3: lead_time\n",
      "  4: arrival_date_year\n",
      "  5: arrival_date_month\n",
      "  6: arrival_date_week_number\n",
      "  7: arrival_date_day_of_month\n",
      "  8: stays_in_weekend_nights\n",
      "  9: stays_in_week_nights\n",
      " 10: adults\n",
      " 11: children\n",
      " 12: babies\n",
      " 13: meal\n",
      " 14: country\n",
      " 15: market_segment\n",
      " 16: distribution_channel\n",
      " 17: is_repeated_guest\n",
      " 18: previous_cancellations\n",
      " 19: previous_bookings_not_canceled\n",
      " 20: reserved_room_type\n",
      " 21: assigned_room_type\n",
      " 22: booking_changes\n",
      " 23: deposit_type\n",
      " 24: agent\n",
      " 25: company\n",
      " 26: days_in_waiting_list\n",
      " 27: customer_type\n",
      " 28: adr\n",
      " 29: required_car_parking_spaces\n",
      " 30: total_of_special_requests\n",
      " 31: reservation_status\n",
      " 32: reservation_status_date\n"
     ]
    }
   ],
   "source": [
    "!csvcut -n hotel_bookings.csv"
   ]
  },
  {
   "cell_type": "markdown",
   "id": "dc7a3fa8-5b15-4720-be50-799daf2ceffb",
   "metadata": {},
   "source": [
    "Удобство утилиты **csvcut** проявляется в том, что при выборе стодбцов к ним можно обращаться по имени:"
   ]
  },
  {
   "cell_type": "code",
   "execution_count": 19,
   "id": "c21c6a8f-31c9-40d4-88dd-e1447283dd21",
   "metadata": {},
   "outputs": [
    {
     "name": "stdout",
     "output_type": "stream",
     "text": [
      "| hotel        | is_repeated_guest | agent | required_car_parking_spaces |\n",
      "| ------------ | ----------------- | ----- | --------------------------- |\n",
      "| Resort Hotel |             False |       |                           0 |\n",
      "| Resort Hotel |             False |       |                           0 |\n",
      "| Resort Hotel |             False |       |                           0 |\n",
      "| Resort Hotel |             False |   304 |                           0 |\n",
      "| Resort Hotel |             False |   240 |                           0 |\n",
      "| Resort Hotel |             False |   240 |                           0 |\n",
      "| Resort Hotel |             False |       |                           0 |\n",
      "| Resort Hotel |             False |   303 |                           0 |\n",
      "| Resort Hotel |             False |   240 |                           0 |\n",
      "| Resort Hotel |             False |    15 |                           0 |\n",
      "| ...          |               ... |   ... |                         ... |\n"
     ]
    }
   ],
   "source": [
    "!csvcut -c hotel,is_repeated_guest,agent,required_car_parking_spaces hotel_bookings.csv | csvlook --max-rows 10"
   ]
  },
  {
   "cell_type": "markdown",
   "id": "b636eddc-37da-4957-8c3e-ffaff523752a",
   "metadata": {},
   "source": [
    "Утилита **csvstat** была вдохновлена функцией summary языка **R**:"
   ]
  },
  {
   "cell_type": "code",
   "execution_count": 25,
   "id": "1856c4f7-490f-495f-a1b2-1802e3f04e7b",
   "metadata": {},
   "outputs": [
    {
     "name": "stdout",
     "output_type": "stream",
     "text": [
      " 16. \"distribution_channel\"\n",
      "\n",
      "\tType of data:          Text\n",
      "\tContains null values:  False\n",
      "\tUnique values:         5\n",
      "\tLongest value:         9 characters\n",
      "\tMost common values:    TA/TO (97870x)\n",
      "\t                       Direct (14645x)\n",
      "\t                       Corporate (6677x)\n",
      "\t                       GDS (193x)\n",
      "\t                       Undefined (5x)\n",
      "\n",
      "Row count: 119390\n"
     ]
    }
   ],
   "source": [
    "!csvstat -c distribution_channel -d ',' hotel_bookings.csv -y 0"
   ]
  },
  {
   "cell_type": "markdown",
   "id": "0c364200-113c-43f1-9246-e06eb77159da",
   "metadata": {},
   "source": [
    "Как мы видим, 193 записи имеют в качестве обозначения канала дистрибуции **GDS**. Утилита **csvgrep** позволит отобрать эти записи по заданном набору признаков-столбцов:"
   ]
  },
  {
   "cell_type": "code",
   "execution_count": 26,
   "id": "a084f5a7-55dd-4428-90ef-ce733264250d",
   "metadata": {},
   "outputs": [
    {
     "name": "stdout",
     "output_type": "stream",
     "text": [
      "| hotel      | is_canceled | agent | company | distribution_channel |\n",
      "| ---------- | ----------- | ----- | ------- | -------------------- |\n",
      "| City Hotel |       False |    54 |         | GDS                  |\n",
      "| City Hotel |        True |   195 |         | GDS                  |\n",
      "| City Hotel |        True |   195 |         | GDS                  |\n",
      "| City Hotel |        True |   195 |         | GDS                  |\n",
      "| City Hotel |        True |   195 |         | GDS                  |\n",
      "| City Hotel |        True |   195 |         | GDS                  |\n",
      "| City Hotel |        True |   195 |         | GDS                  |\n",
      "| City Hotel |        True |   195 |         | GDS                  |\n",
      "| City Hotel |        True |   195 |         | GDS                  |\n",
      "| City Hotel |        True |   195 |         | GDS                  |\n",
      "| City Hotel |        True |   195 |         | GDS                  |\n",
      "| City Hotel |        True |   195 |         | GDS                  |\n",
      "| City Hotel |        True |   195 |         | GDS                  |\n",
      "| City Hotel |        True |   195 |         | GDS                  |\n",
      "| City Hotel |        True |   195 |         | GDS                  |\n",
      "| City Hotel |        True |   195 |         | GDS                  |\n",
      "| City Hotel |        True |   195 |         | GDS                  |\n",
      "| City Hotel |        True |   195 |         | GDS                  |\n",
      "| City Hotel |        True |   195 |         | GDS                  |\n",
      "| City Hotel |        True |   195 |         | GDS                  |\n",
      "| City Hotel |        True |   195 |         | GDS                  |\n",
      "| City Hotel |        True |   195 |         | GDS                  |\n",
      "| City Hotel |        True |   195 |         | GDS                  |\n",
      "| City Hotel |        True |   195 |         | GDS                  |\n",
      "| City Hotel |        True |   195 |         | GDS                  |\n",
      "| City Hotel |        True |   195 |         | GDS                  |\n",
      "| City Hotel |        True |   195 |         | GDS                  |\n",
      "| City Hotel |        True |   195 |         | GDS                  |\n",
      "| City Hotel |        True |   195 |         | GDS                  |\n",
      "| City Hotel |        True |   195 |         | GDS                  |\n",
      "| City Hotel |        True |   195 |         | GDS                  |\n",
      "| City Hotel |        True |   195 |         | GDS                  |\n",
      "| City Hotel |        True |   195 |         | GDS                  |\n",
      "| City Hotel |        True |   195 |         | GDS                  |\n",
      "| City Hotel |        True |   195 |         | GDS                  |\n",
      "| City Hotel |        True |   195 |         | GDS                  |\n",
      "| City Hotel |        True |   195 |         | GDS                  |\n",
      "| City Hotel |        True |   195 |         | GDS                  |\n",
      "| City Hotel |       False |   195 |         | GDS                  |\n",
      "| City Hotel |       False |   195 |         | GDS                  |\n",
      "| City Hotel |       False |   195 |         | GDS                  |\n",
      "| City Hotel |       False |   195 |         | GDS                  |\n",
      "| City Hotel |       False |   195 |         | GDS                  |\n",
      "| City Hotel |       False |   195 |         | GDS                  |\n",
      "| City Hotel |       False |   195 |         | GDS                  |\n",
      "| City Hotel |       False |   195 |         | GDS                  |\n",
      "| City Hotel |       False |   195 |         | GDS                  |\n",
      "| City Hotel |       False |   195 |         | GDS                  |\n",
      "| City Hotel |       False |   195 |         | GDS                  |\n",
      "| City Hotel |       False |   195 |         | GDS                  |\n",
      "| City Hotel |       False |   195 |         | GDS                  |\n",
      "| City Hotel |       False |   195 |         | GDS                  |\n",
      "| City Hotel |       False |       |         | GDS                  |\n",
      "| City Hotel |       False |   195 |         | GDS                  |\n",
      "| City Hotel |       False |   195 |         | GDS                  |\n",
      "| City Hotel |       False |   195 |         | GDS                  |\n",
      "| City Hotel |       False |   195 |         | GDS                  |\n",
      "| City Hotel |       False |   195 |         | GDS                  |\n",
      "| City Hotel |       False |   195 |         | GDS                  |\n",
      "| City Hotel |       False |   195 |         | GDS                  |\n",
      "| City Hotel |       False |   195 |         | GDS                  |\n",
      "| City Hotel |       False |   195 |         | GDS                  |\n",
      "| City Hotel |       False |   195 |         | GDS                  |\n",
      "| City Hotel |       False |   195 |         | GDS                  |\n",
      "| City Hotel |       False |   195 |         | GDS                  |\n",
      "| City Hotel |       False |   195 |         | GDS                  |\n",
      "| City Hotel |       False |   195 |         | GDS                  |\n",
      "| City Hotel |       False |   195 |         | GDS                  |\n",
      "| City Hotel |       False |   195 |         | GDS                  |\n",
      "| City Hotel |       False |   195 |         | GDS                  |\n",
      "| City Hotel |       False |   195 |         | GDS                  |\n",
      "| City Hotel |       False |   195 |         | GDS                  |\n",
      "| City Hotel |       False |   195 |         | GDS                  |\n",
      "| City Hotel |       False |   195 |         | GDS                  |\n",
      "| City Hotel |       False |   195 |         | GDS                  |\n",
      "| City Hotel |       False |   195 |         | GDS                  |\n",
      "| City Hotel |       False |   195 |         | GDS                  |\n",
      "| City Hotel |       False |   195 |         | GDS                  |\n",
      "| City Hotel |       False |   195 |         | GDS                  |\n",
      "| City Hotel |       False |   195 |         | GDS                  |\n",
      "| City Hotel |       False |   195 |         | GDS                  |\n",
      "| City Hotel |       False |   195 |         | GDS                  |\n",
      "| City Hotel |       False |   195 |         | GDS                  |\n",
      "| City Hotel |       False |   195 |         | GDS                  |\n",
      "| City Hotel |       False |   195 |         | GDS                  |\n",
      "| City Hotel |       False |   195 |         | GDS                  |\n",
      "| City Hotel |       False |   195 |         | GDS                  |\n",
      "| City Hotel |       False |   195 |         | GDS                  |\n",
      "| City Hotel |       False |   195 |         | GDS                  |\n",
      "| City Hotel |       False |   195 |         | GDS                  |\n",
      "| City Hotel |       False |   195 |         | GDS                  |\n",
      "| City Hotel |       False |   195 |         | GDS                  |\n",
      "| City Hotel |       False |   195 |         | GDS                  |\n",
      "| City Hotel |       False |   195 |         | GDS                  |\n",
      "| City Hotel |       False |   195 |         | GDS                  |\n",
      "| City Hotel |       False |   195 |         | GDS                  |\n",
      "| City Hotel |       False |   195 |         | GDS                  |\n",
      "| City Hotel |       False |   195 |         | GDS                  |\n",
      "| City Hotel |       False |   195 |         | GDS                  |\n",
      "| City Hotel |       False |   195 |         | GDS                  |\n",
      "| City Hotel |       False |   195 |         | GDS                  |\n",
      "| City Hotel |       False |   195 |         | GDS                  |\n",
      "| City Hotel |       False |   195 |         | GDS                  |\n",
      "| City Hotel |       False |   195 |         | GDS                  |\n",
      "| City Hotel |       False |   195 |         | GDS                  |\n",
      "| City Hotel |       False |   195 |         | GDS                  |\n",
      "| City Hotel |       False |   195 |         | GDS                  |\n",
      "| City Hotel |       False |   195 |         | GDS                  |\n",
      "| City Hotel |       False |   195 |         | GDS                  |\n",
      "| City Hotel |       False |   195 |         | GDS                  |\n",
      "| City Hotel |       False |   195 |         | GDS                  |\n",
      "| City Hotel |       False |   195 |         | GDS                  |\n",
      "| City Hotel |       False |   195 |         | GDS                  |\n",
      "| City Hotel |       False |   195 |         | GDS                  |\n",
      "| City Hotel |       False |   195 |         | GDS                  |\n",
      "| City Hotel |       False |   195 |         | GDS                  |\n",
      "| City Hotel |       False |   195 |         | GDS                  |\n",
      "| City Hotel |       False |   195 |         | GDS                  |\n",
      "| City Hotel |       False |   195 |         | GDS                  |\n",
      "| City Hotel |       False |   195 |         | GDS                  |\n",
      "| City Hotel |       False |   195 |         | GDS                  |\n",
      "| City Hotel |       False |   195 |         | GDS                  |\n",
      "| City Hotel |       False |   195 |         | GDS                  |\n",
      "| City Hotel |       False |   195 |         | GDS                  |\n",
      "| City Hotel |       False |   195 |         | GDS                  |\n",
      "| City Hotel |       False |   195 |         | GDS                  |\n",
      "| City Hotel |       False |   195 |         | GDS                  |\n",
      "| City Hotel |       False |   195 |         | GDS                  |\n",
      "| City Hotel |       False |   195 |         | GDS                  |\n",
      "| City Hotel |       False |   195 |         | GDS                  |\n",
      "| City Hotel |       False |   195 |         | GDS                  |\n",
      "| City Hotel |       False |   195 |         | GDS                  |\n",
      "| City Hotel |       False |   195 |         | GDS                  |\n",
      "| City Hotel |       False |    10 |         | GDS                  |\n",
      "| City Hotel |       False |   195 |         | GDS                  |\n",
      "| City Hotel |       False |   195 |         | GDS                  |\n",
      "| City Hotel |       False |   195 |         | GDS                  |\n",
      "| City Hotel |       False |   195 |         | GDS                  |\n",
      "| City Hotel |       False |   195 |         | GDS                  |\n",
      "| City Hotel |       False |   195 |         | GDS                  |\n",
      "| City Hotel |       False |   195 |         | GDS                  |\n",
      "| City Hotel |       False |   195 |         | GDS                  |\n",
      "| City Hotel |       False |   195 |         | GDS                  |\n",
      "| City Hotel |       False |   195 |     417 | GDS                  |\n",
      "| City Hotel |       False |   195 |         | GDS                  |\n",
      "| City Hotel |       False |   195 |         | GDS                  |\n",
      "| City Hotel |       False |   195 |         | GDS                  |\n",
      "| City Hotel |       False |   195 |         | GDS                  |\n",
      "| City Hotel |       False |   195 |         | GDS                  |\n",
      "| City Hotel |       False |   195 |         | GDS                  |\n",
      "| City Hotel |       False |   195 |         | GDS                  |\n",
      "| City Hotel |       False |   195 |         | GDS                  |\n",
      "| City Hotel |       False |   195 |         | GDS                  |\n",
      "| City Hotel |       False |   195 |         | GDS                  |\n",
      "| City Hotel |       False |   195 |         | GDS                  |\n",
      "| City Hotel |       False |   195 |         | GDS                  |\n",
      "| City Hotel |       False |   195 |         | GDS                  |\n",
      "| City Hotel |       False |   195 |         | GDS                  |\n",
      "| City Hotel |       False |   195 |         | GDS                  |\n",
      "| City Hotel |       False |   195 |         | GDS                  |\n",
      "| City Hotel |       False |   195 |         | GDS                  |\n",
      "| City Hotel |       False |   195 |         | GDS                  |\n",
      "| City Hotel |       False |   195 |         | GDS                  |\n",
      "| City Hotel |       False |   195 |         | GDS                  |\n",
      "| City Hotel |       False |   195 |         | GDS                  |\n",
      "| City Hotel |       False |   195 |         | GDS                  |\n",
      "| City Hotel |       False |   195 |         | GDS                  |\n",
      "| City Hotel |       False |   195 |         | GDS                  |\n",
      "| City Hotel |       False |   195 |         | GDS                  |\n",
      "| City Hotel |       False |   195 |         | GDS                  |\n",
      "| City Hotel |       False |   195 |         | GDS                  |\n",
      "| City Hotel |       False |   195 |         | GDS                  |\n",
      "| City Hotel |       False |   195 |         | GDS                  |\n",
      "| City Hotel |       False |   195 |         | GDS                  |\n",
      "| City Hotel |       False |   195 |         | GDS                  |\n",
      "| City Hotel |       False |   195 |         | GDS                  |\n",
      "| City Hotel |       False |   195 |         | GDS                  |\n",
      "| City Hotel |       False |   195 |         | GDS                  |\n",
      "| City Hotel |       False |       |         | GDS                  |\n",
      "| City Hotel |       False |   195 |         | GDS                  |\n",
      "| City Hotel |       False |   195 |         | GDS                  |\n",
      "| City Hotel |       False |   195 |         | GDS                  |\n",
      "| City Hotel |       False |   195 |         | GDS                  |\n",
      "| City Hotel |       False |   195 |         | GDS                  |\n",
      "| City Hotel |       False |   195 |         | GDS                  |\n",
      "| City Hotel |       False |   195 |         | GDS                  |\n",
      "| City Hotel |       False |   195 |         | GDS                  |\n",
      "| City Hotel |       False |   195 |         | GDS                  |\n",
      "| City Hotel |       False |   195 |         | GDS                  |\n",
      "| City Hotel |       False |   195 |         | GDS                  |\n",
      "| City Hotel |       False |   195 |         | GDS                  |\n",
      "| City Hotel |       False |   195 |         | GDS                  |\n",
      "| City Hotel |       False |   195 |         | GDS                  |\n"
     ]
    }
   ],
   "source": [
    "!csvcut -c hotel,is_canceled,agent,company,distribution_channel hotel_bookings.csv | csvgrep -c distribution_channel -m GDS | csvlook"
   ]
  },
  {
   "cell_type": "markdown",
   "id": "e8f78e6a-cca3-4103-851f-c547c070e24e",
   "metadata": {},
   "source": [
    "Наконец, сохраним **CSV-файл**, с которым осуществлялась работа, в формате базы данных SQL для дальнейшей демонстрации некоторых навыков работы с данными:"
   ]
  },
  {
   "cell_type": "code",
   "execution_count": null,
   "id": "248b3e82-1e7d-48b9-bb97-fb65b58b925d",
   "metadata": {},
   "outputs": [],
   "source": []
  }
 ],
 "metadata": {
  "kernelspec": {
   "display_name": "Python 3 (ipykernel)",
   "language": "python",
   "name": "python3"
  },
  "language_info": {
   "codemirror_mode": {
    "name": "ipython",
    "version": 3
   },
   "file_extension": ".py",
   "mimetype": "text/x-python",
   "name": "python",
   "nbconvert_exporter": "python",
   "pygments_lexer": "ipython3",
   "version": "3.9.5"
  }
 },
 "nbformat": 4,
 "nbformat_minor": 5
}
