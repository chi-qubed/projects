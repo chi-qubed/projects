{
 "cells": [
  {
   "cell_type": "code",
   "execution_count": 12,
   "id": "add0ba06-216e-4038-ac99-73d4cf88a639",
   "metadata": {},
   "outputs": [
    {
     "name": "stdout",
     "output_type": "stream",
     "text": [
      "/home/manjaro/da/projects/unix-data-cleaning\n"
     ]
    }
   ],
   "source": [
    "%cd .."
   ]
  },
  {
   "cell_type": "code",
   "execution_count": null,
   "id": "c649b765-4231-4970-ba57-5d82f729d699",
   "metadata": {},
   "outputs": [],
   "source": []
  },
  {
   "cell_type": "markdown",
   "id": "465819fb-bb66-4962-aed1-9a002e93d27b",
   "metadata": {},
   "source": [
    "Перейдем в директорию с наборами данных:"
   ]
  },
  {
   "cell_type": "code",
   "execution_count": 13,
   "id": "d1a7dc80-d9f4-4378-8ebc-779ce23dc77d",
   "metadata": {},
   "outputs": [
    {
     "name": "stdout",
     "output_type": "stream",
     "text": [
      "/home/manjaro/da/projects/unix-data-cleaning/datasets\n"
     ]
    }
   ],
   "source": [
    "%cd datasets"
   ]
  },
  {
   "cell_type": "code",
   "execution_count": 14,
   "id": "d098d584-3f70-4f49-b702-46507bd29f6c",
   "metadata": {},
   "outputs": [
    {
     "name": "stdout",
     "output_type": "stream",
     "text": [
      "hotel_bookings.csv\n"
     ]
    }
   ],
   "source": [
    "!ls"
   ]
  },
  {
   "cell_type": "markdown",
   "id": "dae3be43-c334-4f0f-b7c0-374ef1810da0",
   "metadata": {},
   "source": [
    "Воспользуемся утилитой **head** для просмотра первых 5 строк файла:"
   ]
  },
  {
   "cell_type": "code",
   "execution_count": 17,
   "id": "6a3560bd-6e15-40e3-94b7-325d3410ed16",
   "metadata": {},
   "outputs": [
    {
     "name": "stdout",
     "output_type": "stream",
     "text": [
      "hotel,is_canceled,lead_time,arrival_date_year,arrival_date_month,arrival_date_week_number,arrival_date_day_of_month,stays_in_weekend_nights,stays_in_week_nights,adults,children,babies,meal,country,market_segment,distribution_channel,is_repeated_guest,previous_cancellations,previous_bookings_not_canceled,reserved_room_type,assigned_room_type,booking_changes,deposit_type,agent,company,days_in_waiting_list,customer_type,adr,required_car_parking_spaces,total_of_special_requests,reservation_status,reservation_status_date\n",
      "Resort Hotel,0,342,2015,July,27,1,0,0,2,0,0,BB,PRT,Direct,Direct,0,0,0,C,C,3,No Deposit,NULL,NULL,0,Transient,0,0,0,Check-Out,2015-07-01\n",
      "Resort Hotel,0,737,2015,July,27,1,0,0,2,0,0,BB,PRT,Direct,Direct,0,0,0,C,C,4,No Deposit,NULL,NULL,0,Transient,0,0,0,Check-Out,2015-07-01\n",
      "Resort Hotel,0,7,2015,July,27,1,0,1,1,0,0,BB,GBR,Direct,Direct,0,0,0,A,C,0,No Deposit,NULL,NULL,0,Transient,75,0,0,Check-Out,2015-07-02\n",
      "Resort Hotel,0,13,2015,July,27,1,0,1,1,0,0,BB,GBR,Corporate,Corporate,0,0,0,A,A,0,No Deposit,304,NULL,0,Transient,75,0,0,Check-Out,2015-07-02\n"
     ]
    }
   ],
   "source": [
    "!head -n 5 hotel_bookings.csv"
   ]
  },
  {
   "cell_type": "markdown",
   "id": "2ba0d039-7a6c-4476-8fc7-4a6cfa12164c",
   "metadata": {},
   "source": [
    "Определим число записей, имеющихся в файле:"
   ]
  },
  {
   "cell_type": "code",
   "execution_count": 16,
   "id": "7e8dd726-0dcd-49ad-b4d9-5d4ceb9b342d",
   "metadata": {},
   "outputs": [
    {
     "name": "stdout",
     "output_type": "stream",
     "text": [
      "119391 hotel_bookings.csv\n"
     ]
    }
   ],
   "source": [
    "!wc -l hotel_bookings.csv"
   ]
  },
  {
   "cell_type": "markdown",
   "id": "497e2977-f288-4ad0-b3c2-14089a6c52ac",
   "metadata": {},
   "source": [
    "За исключением первой строки с названиями столбцов общее число записей составило **119390**."
   ]
  },
  {
   "cell_type": "markdown",
   "id": "eaa0da85-9c86-4259-aaa6-9e1ab3bb4d5f",
   "metadata": {},
   "source": [
    "Для примера приведем распределение записей по переменной \"is_canceled\" (отмена резервации номера). В этих целях воспользуемся утилитами **AWK**, **sort**, **uniq**:"
   ]
  },
  {
   "cell_type": "code",
   "execution_count": 19,
   "id": "cb8a7836-06cb-4c8e-8e03-fc7a4ec4ad20",
   "metadata": {},
   "outputs": [
    {
     "name": "stdout",
     "output_type": "stream",
     "text": [
      "  75166 0\n",
      "  44224 1\n"
     ]
    }
   ],
   "source": [
    "!awk -F \"\\\"*,\\\"*\" 'NR>1 {print $2}' hotel_bookings.csv | sort | uniq -c"
   ]
  },
  {
   "cell_type": "markdown",
   "id": "fa07e570-46b9-4989-896c-7580db8b2000",
   "metadata": {},
   "source": [
    "С помощью **AWK** в вывод можно добавить суммарное поле \"Total\" и процентное распределение:"
   ]
  },
  {
   "cell_type": "code",
   "execution_count": 21,
   "id": "fd724722-55b5-4bc4-9e4a-4da10dbeb09e",
   "metadata": {},
   "outputs": [
    {
     "name": "stdout",
     "output_type": "stream",
     "text": [
      "                         Total     119390  100.00%\n",
      "                             0      75166   62.96%\n",
      "                             1      44224   37.04%\n"
     ]
    }
   ],
   "source": [
    "!awk -F \"\\\"*,\\\"*\" 'NR>1 {print $2}' hotel_bookings.csv | sort | uniq -c | awk '{s+=$1;lines=lines\"\\n\"$0} END {printf \"%d Total\",s;print lines}' | awk '!max{max=$1}{s=$1/max*100;c=$1;$1=\"\";printf \"%30s %10d %7.2f%%\\n\",$0,c,s;}'"
   ]
  },
  {
   "cell_type": "markdown",
   "id": "fbd96e83-1660-434c-ad0f-ee8b41179d91",
   "metadata": {},
   "source": []
  },
  {
   "cell_type": "code",
   "execution_count": null,
   "id": "c5c4247d-2f54-45b9-8d04-5c721cf8d8ee",
   "metadata": {},
   "outputs": [],
   "source": []
  },
  {
   "cell_type": "code",
   "execution_count": null,
   "id": "1856c4f7-490f-495f-a1b2-1802e3f04e7b",
   "metadata": {},
   "outputs": [],
   "source": []
  },
  {
   "cell_type": "code",
   "execution_count": null,
   "id": "d16bbb40-c71c-41d7-a777-02a252e54896",
   "metadata": {},
   "outputs": [],
   "source": []
  }
 ],
 "metadata": {
  "kernelspec": {
   "display_name": "Python 3 (ipykernel)",
   "language": "python",
   "name": "python3"
  },
  "language_info": {
   "codemirror_mode": {
    "name": "ipython",
    "version": 3
   },
   "file_extension": ".py",
   "mimetype": "text/x-python",
   "name": "python",
   "nbconvert_exporter": "python",
   "pygments_lexer": "ipython3",
   "version": "3.9.5"
  }
 },
 "nbformat": 4,
 "nbformat_minor": 5
}
