{
 "cells": [
  {
   "cell_type": "markdown",
   "id": "6d884675-02b4-4fff-b9f8-4aff60620cfb",
   "metadata": {},
   "source": [
    "# Утилиты Unix в анализе данных"
   ]
  },
  {
   "cell_type": "markdown",
   "id": "bcdaa148-cfce-4b33-b856-4bea9dd56582",
   "metadata": {},
   "source": [
    "В даннном блокноте ipynb демонстрируются возможности различных утилит командной оболочки **Unix-подобных ОС** при решении **несложных задач очистки данных и их разведательного анализа**, в том числе:\n",
    "* **head**\n",
    "* **wc**\n",
    "* **awk**\n",
    "* **sort**\n",
    "* **uniq**\n",
    "\n",
    "Кроме того, полезными при решении подобных задач является набор утлитик командной строки под названием [**csvkit**](https://github.com/wireservice/csvkit)."
   ]
  },
  {
   "cell_type": "markdown",
   "id": "ef9101fc-09bd-4b64-8592-cd862de7b67e",
   "metadata": {},
   "source": [
    "## Датасет №1:\n",
    "\n",
    "### Hotel booking demand\n",
    "\n",
    "В наборе данных представлена информация о бронировании для двух организаций: городского отеля и курортного отеля. В качесте признаков представлены такие параметры, как дата своершения бронирования, продолжительность пребывания, количество гостей, количество мест паркинга и др.\n",
    "\n",
    "С легендой значений данных можно ознакомиться на странице датасета на портале Kaggle.\n",
    "\n",
    "Источник набора данных:\n",
    "https://www.kaggle.com/jessemostipak/hotel-booking-demand  \n",
    "https://www.sciencedirect.com/science/article/pii/S2352340918315191"
   ]
  },
  {
   "cell_type": "markdown",
   "id": "fdfb0afe-ac6d-43c2-88fa-72bf120ac4d8",
   "metadata": {},
   "source": [
    "<img src=\"https://www.kaggle.com/static/images/site-logo.png\" width=\"100\">"
   ]
  },
  {
   "cell_type": "code",
   "execution_count": 7,
   "id": "c649b765-4231-4970-ba57-5d82f729d699",
   "metadata": {},
   "outputs": [
    {
     "name": "stdout",
     "output_type": "stream",
     "text": [
      "README.md  datasets  hotel_demand.ipynb\n"
     ]
    }
   ],
   "source": [
    "!ls"
   ]
  },
  {
   "cell_type": "markdown",
   "id": "465819fb-bb66-4962-aed1-9a002e93d27b",
   "metadata": {
    "tags": []
   },
   "source": [
    "Перейдем в директорию с наборами данных:"
   ]
  },
  {
   "cell_type": "code",
   "execution_count": 8,
   "id": "d1a7dc80-d9f4-4378-8ebc-779ce23dc77d",
   "metadata": {},
   "outputs": [
    {
     "name": "stdout",
     "output_type": "stream",
     "text": [
      "/home/manjaro/da/projects/unix-data-cleaning/datasets\n"
     ]
    }
   ],
   "source": [
    "%cd datasets"
   ]
  },
  {
   "cell_type": "code",
   "execution_count": 9,
   "id": "d098d584-3f70-4f49-b702-46507bd29f6c",
   "metadata": {},
   "outputs": [
    {
     "name": "stdout",
     "output_type": "stream",
     "text": [
      "hotel_bookings.csv\n"
     ]
    }
   ],
   "source": [
    "!ls"
   ]
  },
  {
   "cell_type": "markdown",
   "id": "dae3be43-c334-4f0f-b7c0-374ef1810da0",
   "metadata": {},
   "source": [
    "Воспользуемся утилитой **head** для просмотра первых 5 строк файла:"
   ]
  },
  {
   "cell_type": "code",
   "execution_count": 10,
   "id": "6a3560bd-6e15-40e3-94b7-325d3410ed16",
   "metadata": {},
   "outputs": [
    {
     "name": "stdout",
     "output_type": "stream",
     "text": [
      "hotel,is_canceled,lead_time,arrival_date_year,arrival_date_month,arrival_date_week_number,arrival_date_day_of_month,stays_in_weekend_nights,stays_in_week_nights,adults,children,babies,meal,country,market_segment,distribution_channel,is_repeated_guest,previous_cancellations,previous_bookings_not_canceled,reserved_room_type,assigned_room_type,booking_changes,deposit_type,agent,company,days_in_waiting_list,customer_type,adr,required_car_parking_spaces,total_of_special_requests,reservation_status,reservation_status_date\n",
      "Resort Hotel,0,342,2015,July,27,1,0,0,2,0,0,BB,PRT,Direct,Direct,0,0,0,C,C,3,No Deposit,NULL,NULL,0,Transient,0,0,0,Check-Out,2015-07-01\n",
      "Resort Hotel,0,737,2015,July,27,1,0,0,2,0,0,BB,PRT,Direct,Direct,0,0,0,C,C,4,No Deposit,NULL,NULL,0,Transient,0,0,0,Check-Out,2015-07-01\n",
      "Resort Hotel,0,7,2015,July,27,1,0,1,1,0,0,BB,GBR,Direct,Direct,0,0,0,A,C,0,No Deposit,NULL,NULL,0,Transient,75,0,0,Check-Out,2015-07-02\n",
      "Resort Hotel,0,13,2015,July,27,1,0,1,1,0,0,BB,GBR,Corporate,Corporate,0,0,0,A,A,0,No Deposit,304,NULL,0,Transient,75,0,0,Check-Out,2015-07-02\n"
     ]
    }
   ],
   "source": [
    "!head -n 5 hotel_bookings.csv"
   ]
  },
  {
   "cell_type": "markdown",
   "id": "2ba0d039-7a6c-4476-8fc7-4a6cfa12164c",
   "metadata": {},
   "source": [
    "Определим число записей, имеющихся в файле:"
   ]
  },
  {
   "cell_type": "code",
   "execution_count": 11,
   "id": "7e8dd726-0dcd-49ad-b4d9-5d4ceb9b342d",
   "metadata": {},
   "outputs": [
    {
     "name": "stdout",
     "output_type": "stream",
     "text": [
      "119391 hotel_bookings.csv\n"
     ]
    }
   ],
   "source": [
    "!wc -l hotel_bookings.csv"
   ]
  },
  {
   "cell_type": "markdown",
   "id": "497e2977-f288-4ad0-b3c2-14089a6c52ac",
   "metadata": {},
   "source": [
    "За исключением первой строки с названиями столбцов общее число записей составило **119390**."
   ]
  },
  {
   "cell_type": "markdown",
   "id": "eaa0da85-9c86-4259-aaa6-9e1ab3bb4d5f",
   "metadata": {},
   "source": [
    "Для примера приведем распределение записей по переменной \"is_canceled\" (отмена бронирования номера). В этих целях воспользуемся утилитами **AWK**, **sort**, **uniq**:"
   ]
  },
  {
   "cell_type": "code",
   "execution_count": 12,
   "id": "cb8a7836-06cb-4c8e-8e03-fc7a4ec4ad20",
   "metadata": {},
   "outputs": [
    {
     "name": "stdout",
     "output_type": "stream",
     "text": [
      "  75166 0\n",
      "  44224 1\n"
     ]
    }
   ],
   "source": [
    "!awk -F \"\\\"*,\\\"*\" 'NR>1 {print $2}' hotel_bookings.csv | sort | uniq -c"
   ]
  },
  {
   "cell_type": "markdown",
   "id": "fa07e570-46b9-4989-896c-7580db8b2000",
   "metadata": {},
   "source": [
    "С помощью **AWK** в вывод можно добавить суммарное поле \"Total\" и процентное распределение:"
   ]
  },
  {
   "cell_type": "code",
   "execution_count": 13,
   "id": "fd724722-55b5-4bc4-9e4a-4da10dbeb09e",
   "metadata": {},
   "outputs": [
    {
     "name": "stdout",
     "output_type": "stream",
     "text": [
      "                         Total     119390  100.00%\n",
      "                             0      75166   62.96%\n",
      "                             1      44224   37.04%\n"
     ]
    }
   ],
   "source": [
    "!awk -F \"\\\"*,\\\"*\" 'NR>1 {print $2}' hotel_bookings.csv | sort | uniq -c | awk '{s+=$1;lines=lines\"\\n\"$0} END {printf \"%d Total\",s;print lines}' | awk '!max{max=$1}{s=$1/max*100;c=$1;$1=\"\";printf \"%30s %10d %7.2f%%\\n\",$0,c,s;}'"
   ]
  },
  {
   "cell_type": "markdown",
   "id": "fbd96e83-1660-434c-ad0f-ee8b41179d91",
   "metadata": {},
   "source": [
    "Примерно 63% броней были отменены."
   ]
  },
  {
   "cell_type": "markdown",
   "id": "a030e6ec-71f4-496d-98b1-d1b1348d9282",
   "metadata": {},
   "source": [
    "Аналогичным образом можно рассмотреть распределение записей по другим признакам:"
   ]
  },
  {
   "cell_type": "markdown",
   "id": "c264c598-67d5-41a5-a7aa-afec025daf96",
   "metadata": {},
   "source": [
    "Вид отеля (городской или курортный):"
   ]
  },
  {
   "cell_type": "code",
   "execution_count": 14,
   "id": "3f42d38c-4817-476c-b29f-b3b50c8babf4",
   "metadata": {},
   "outputs": [
    {
     "name": "stdout",
     "output_type": "stream",
     "text": [
      "                         Total     119390  100.00%\n",
      "                    City Hotel      79330   66.45%\n",
      "                  Resort Hotel      40060   33.55%\n"
     ]
    }
   ],
   "source": [
    "!awk -F \"\\\"*,\\\"*\" 'NR>1 {print $1}' hotel_bookings.csv | sort | uniq -c | awk '{s+=$1;lines=lines\"\\n\"$0} END {printf \"%d Total\",s;print lines}' | awk '!max{max=$1}{s=$1/max*100;c=$1;$1=\"\";printf \"%30s %10d %7.2f%%\\n\",$0,c,s;}'"
   ]
  },
  {
   "cell_type": "markdown",
   "id": "6b1f75b0-f932-4b02-9f01-79a0f0c1ecf3",
   "metadata": {},
   "source": [
    "В наборе данных также отражено количество ночей выходного дня, вошедших в период брони:"
   ]
  },
  {
   "cell_type": "code",
   "execution_count": 15,
   "id": "ae296b3d-3ea2-4e7c-bcab-3eca5d61544a",
   "metadata": {},
   "outputs": [
    {
     "name": "stdout",
     "output_type": "stream",
     "text": [
      "                         Total     119390  100.00%\n",
      "                             0      51998   43.55%\n",
      "                             1      30626   25.65%\n",
      "                            10          7    0.01%\n",
      "                            12          5    0.00%\n",
      "                            13          3    0.00%\n",
      "                            14          2    0.00%\n",
      "                            16          3    0.00%\n",
      "                            18          1    0.00%\n",
      "                            19          1    0.00%\n",
      "                             2      33308   27.90%\n",
      "                             3       1259    1.05%\n",
      "                             4       1855    1.55%\n",
      "                             5         79    0.07%\n",
      "                             6        153    0.13%\n",
      "                             7         19    0.02%\n",
      "                             8         60    0.05%\n",
      "                             9         11    0.01%\n"
     ]
    }
   ],
   "source": [
    "!awk -F \"\\\"*,\\\"*\" 'NR>1 {print $8}' hotel_bookings.csv | sort | uniq -c | awk '{s+=$1;lines=lines\"\\n\"$0} END {printf \"%d Total\",s;print lines}' | awk '!max{max=$1}{s=$1/max*100;c=$1;$1=\"\";printf \"%30s %10d %7.2f%%\\n\",$0,c,s;}'"
   ]
  },
  {
   "cell_type": "markdown",
   "id": "03430f6b-899d-438b-ac97-ba4e34107b81",
   "metadata": {},
   "source": [
    "Как видно из выходных данных, на определенном этапе **баланс** информативности и простоты использования исключительно стандартных утилит **Unix-подобных ОС** может смещаться в **неблагоприятную сторону**. В этом случае для повышения читаемости кода и результатов целесообразно обратиться к сторонним наборам утилит, что будет рассмотрено на примере **csvkit**."
   ]
  },
  {
   "cell_type": "code",
   "execution_count": 16,
   "id": "5a3189a4-66d2-4c6f-98b1-5b6a881ba55f",
   "metadata": {},
   "outputs": [
    {
     "name": "stdout",
     "output_type": "stream",
     "text": [
      "Defaulting to user installation because normal site-packages is not writeable\n",
      "Collecting csvkit\n",
      "  Downloading csvkit-1.0.6-py2.py3-none-any.whl (42 kB)\n",
      "\u001b[K     |████████████████████████████████| 42 kB 143 kB/s eta 0:00:01\n",
      "\u001b[?25hRequirement already satisfied: setuptools in /usr/lib/python3.9/site-packages (from csvkit) (57.0.0)\n",
      "Requirement already satisfied: six>=1.6.1 in /usr/lib/python3.9/site-packages (from csvkit) (1.16.0)\n",
      "Collecting agate>=1.6.1\n",
      "  Downloading agate-1.6.3-py2.py3-none-any.whl (100 kB)\n",
      "\u001b[K     |████████████████████████████████| 100 kB 1.3 MB/s ta 0:00:01\n",
      "\u001b[?25hRequirement already satisfied: six>=1.6.1 in /usr/lib/python3.9/site-packages (from csvkit) (1.16.0)\n",
      "Requirement already satisfied: Babel>=2.0 in /usr/lib/python3.9/site-packages (from agate>=1.6.1->csvkit) (2.9.1)\n",
      "Collecting agate-dbf>=0.2.0\n",
      "  Downloading agate-dbf-0.2.2.tar.gz (2.9 kB)\n",
      "Collecting agate-excel>=0.2.2\n",
      "  Downloading agate_excel-0.2.5-py2.py3-none-any.whl (7.1 kB)\n",
      "Requirement already satisfied: six>=1.6.1 in /usr/lib/python3.9/site-packages (from csvkit) (1.16.0)\n",
      "Collecting agate-sql>=0.5.3\n",
      "  Downloading agate_sql-0.5.7-py2.py3-none-any.whl (7.1 kB)\n",
      "Requirement already satisfied: pytz>=2015.7 in /usr/lib/python3.9/site-packages (from Babel>=2.0->agate>=1.6.1->csvkit) (2021.1)\n",
      "Collecting dbfread>=2.0.5\n",
      "  Downloading dbfread-2.0.7-py2.py3-none-any.whl (20 kB)\n",
      "Collecting isodate>=0.5.4\n",
      "  Downloading isodate-0.6.0-py2.py3-none-any.whl (45 kB)\n",
      "\u001b[K     |████████████████████████████████| 45 kB 5.5 MB/s eta 0:00:01\n",
      "\u001b[?25hRequirement already satisfied: six>=1.6.1 in /usr/lib/python3.9/site-packages (from csvkit) (1.16.0)\n",
      "Collecting leather>=0.3.2\n",
      "  Downloading leather-0.3.3-py3-none-any.whl (35 kB)\n",
      "Requirement already satisfied: six>=1.6.1 in /usr/lib/python3.9/site-packages (from csvkit) (1.16.0)\n",
      "Collecting olefile\n",
      "  Downloading olefile-0.46.zip (112 kB)\n",
      "\u001b[K     |████████████████████████████████| 112 kB 4.9 MB/s eta 0:00:01\n",
      "\u001b[?25hCollecting openpyxl>=2.3.0\n",
      "  Downloading openpyxl-3.0.7-py2.py3-none-any.whl (243 kB)\n",
      "\u001b[K     |████████████████████████████████| 243 kB 6.1 MB/s eta 0:00:01\n",
      "\u001b[?25hCollecting et-xmlfile\n",
      "  Downloading et_xmlfile-1.1.0-py3-none-any.whl (4.7 kB)\n",
      "Collecting parsedatetime!=2.5,!=2.6,>=2.1\n",
      "  Downloading parsedatetime-2.4.tar.gz (58 kB)\n",
      "\u001b[K     |████████████████████████████████| 58 kB 11.8 MB/s eta 0:00:01\n",
      "\u001b[?25hCollecting future\n",
      "  Downloading future-0.18.2.tar.gz (829 kB)\n",
      "\u001b[K     |████████████████████████████████| 829 kB 12.5 MB/s eta 0:00:01\n",
      "\u001b[?25hCollecting python-slugify>=1.2.1\n",
      "  Downloading python_slugify-5.0.2-py2.py3-none-any.whl (6.7 kB)\n",
      "Collecting pytimeparse>=1.1.5\n",
      "  Downloading pytimeparse-1.1.8-py2.py3-none-any.whl (10.0 kB)\n",
      "Collecting sqlalchemy>=1.0.8\n",
      "  Downloading SQLAlchemy-1.4.22-cp39-cp39-manylinux_2_5_x86_64.manylinux1_x86_64.manylinux_2_17_x86_64.manylinux2014_x86_64.whl (1.6 MB)\n",
      "\u001b[K     |████████████████████████████████| 1.6 MB 9.9 MB/s eta 0:00:01     |███████████████████████████████▏| 1.5 MB 9.9 MB/s eta 0:00:01\n",
      "\u001b[?25hCollecting greenlet!=0.4.17\n",
      "  Downloading greenlet-1.1.1-cp39-cp39-manylinux_2_17_x86_64.manylinux2014_x86_64.whl (147 kB)\n",
      "\u001b[K     |████████████████████████████████| 147 kB 8.8 MB/s eta 0:00:01\n",
      "\u001b[?25hCollecting text-unidecode>=1.3\n",
      "  Downloading text_unidecode-1.3-py2.py3-none-any.whl (78 kB)\n",
      "\u001b[K     |████████████████████████████████| 78 kB 10.6 MB/s eta 0:00:01\n",
      "\u001b[?25hCollecting xlrd>=0.9.4\n",
      "  Downloading xlrd-2.0.1-py2.py3-none-any.whl (96 kB)\n",
      "\u001b[K     |████████████████████████████████| 96 kB 9.1 MB/s  eta 0:00:01\n",
      "\u001b[?25hBuilding wheels for collected packages: agate-dbf, olefile, parsedatetime, future\n",
      "  Building wheel for agate-dbf (setup.py) ... \u001b[?25ldone\n",
      "\u001b[?25h  Created wheel for agate-dbf: filename=agate_dbf-0.2.2-py2.py3-none-any.whl size=3539 sha256=099c74a9e7bf46f62c140d397eb8a2c1ada8c2b148b37413616df3a6319b6238\n",
      "  Stored in directory: /home/manjaro/.cache/pip/wheels/67/31/dd/3f92bde7b118bb8be5a845314a597de1dc7dd8d2d52a8b4f9f\n",
      "  Building wheel for olefile (setup.py) ... \u001b[?25ldone\n",
      "\u001b[?25h  Created wheel for olefile: filename=olefile-0.46-py2.py3-none-any.whl size=35432 sha256=67c639f5632243d56e49fb5e1c3d97af46986e4b2a1a74a7cc0c9e825625cef5\n",
      "  Stored in directory: /home/manjaro/.cache/pip/wheels/64/b8/ba/ebba30390fbd997074f35e42a842ce3fd933213cac8753414e\n",
      "  Building wheel for parsedatetime (setup.py) ... \u001b[?25ldone\n",
      "\u001b[?25h  Created wheel for parsedatetime: filename=parsedatetime-2.4-py3-none-any.whl size=42774 sha256=8fec610e633426869433930f95397b23329cd0aa863c5c733dc6f31b1fa70466\n",
      "  Stored in directory: /home/manjaro/.cache/pip/wheels/92/80/ea/12d7c2c45f3ad765ee4cc505a22d5af2d1cc5defb0f4c0552b\n",
      "  Building wheel for future (setup.py) ... \u001b[?25ldone\n",
      "\u001b[?25h  Created wheel for future: filename=future-0.18.2-py3-none-any.whl size=491070 sha256=a3a67cf33d96711590bb0d63e79df5c185d55f848f7966f673d1cb723ec252da\n",
      "  Stored in directory: /home/manjaro/.cache/pip/wheels/2f/a0/d3/4030d9f80e6b3be787f19fc911b8e7aa462986a40ab1e4bb94\n",
      "Successfully built agate-dbf olefile parsedatetime future\n",
      "Installing collected packages: text-unidecode, future, pytimeparse, python-slugify, parsedatetime, leather, isodate, greenlet, et-xmlfile, xlrd, sqlalchemy, openpyxl, olefile, dbfread, agate, agate-sql, agate-excel, agate-dbf, csvkit\n",
      "Successfully installed agate-1.6.3 agate-dbf-0.2.2 agate-excel-0.2.5 agate-sql-0.5.7 csvkit-1.0.6 dbfread-2.0.7 et-xmlfile-1.1.0 future-0.18.2 greenlet-1.1.1 isodate-0.6.0 leather-0.3.3 olefile-0.46 openpyxl-3.0.7 parsedatetime-2.4 python-slugify-5.0.2 pytimeparse-1.1.8 sqlalchemy-1.4.22 text-unidecode-1.3 xlrd-2.0.1\n"
     ]
    }
   ],
   "source": [
    "!pip install csvkit"
   ]
  },
  {
   "cell_type": "code",
   "execution_count": null,
   "id": "68345c3d-825b-4a7c-8824-8eadf15ef723",
   "metadata": {},
   "outputs": [],
   "source": []
  },
  {
   "cell_type": "code",
   "execution_count": null,
   "id": "1856c4f7-490f-495f-a1b2-1802e3f04e7b",
   "metadata": {},
   "outputs": [],
   "source": []
  },
  {
   "cell_type": "code",
   "execution_count": null,
   "id": "d16bbb40-c71c-41d7-a777-02a252e54896",
   "metadata": {},
   "outputs": [],
   "source": []
  }
 ],
 "metadata": {
  "kernelspec": {
   "display_name": "Python 3 (ipykernel)",
   "language": "python",
   "name": "python3"
  },
  "language_info": {
   "codemirror_mode": {
    "name": "ipython",
    "version": 3
   },
   "file_extension": ".py",
   "mimetype": "text/x-python",
   "name": "python",
   "nbconvert_exporter": "python",
   "pygments_lexer": "ipython3",
   "version": "3.9.5"
  }
 },
 "nbformat": 4,
 "nbformat_minor": 5
}
